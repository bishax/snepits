{
 "cells": [
  {
   "cell_type": "code",
   "execution_count": null,
   "metadata": {},
   "outputs": [],
   "source": [
    "%run ../notebook_preamble.ipy\n",
    "\n",
    "from copy import deepcopy\n",
    "import joblib\n",
    "import seaborn as sns\n",
    "import pymc3 as pm\n",
    "import scipy.stats as ss\n",
    "import theano.tensor as tt\n",
    "from snepits.models.models_spec import *\n",
    "from snepits.models.pymc_wrapper import PymcWrapper, PymcWrapperGrad\n",
    "\n",
    "from pymc3.step_methods import SMC"
   ]
  },
  {
   "cell_type": "markdown",
   "metadata": {},
   "source": [
    "# SIS"
   ]
  },
  {
   "cell_type": "code",
   "execution_count": null,
   "metadata": {},
   "outputs": [],
   "source": [
    "m = SIS_pop\n",
    "sizes = np.ones(100, dtype=np.int) * 5\n",
    "params = np.array([2, 0.1])\n",
    "\n",
    "model = m(sizes=sizes, params=params, data=None)"
   ]
  },
  {
   "cell_type": "code",
   "execution_count": null,
   "metadata": {},
   "outputs": [],
   "source": [
    "loglike = PymcWrapper(model)\n",
    "\n",
    "ndraws = 500\n",
    "nburn = 500\n",
    "\n",
    "with pm.Model() as pm_model:\n",
    "    m = pm.HalfNormal('m', sd=5)\n",
    "    c = pm.Uniform('c', lower=0., upper=10.)\n",
    "\n",
    "    theta = tt.as_tensor_variable([m, c])\n",
    "\n",
    "#     pm.DensityDist('likelihood', lambda v: loglike(v), observed={'v': theta})\n",
    "    pm.Potential('likelihood', loglike(theta))\n",
    "\n",
    "    trace = pm.sample(ndraws, tune=nburn, discard_tuned_samples=True)\n",
    "\n",
    "_ = pm.traceplot(trace, lines={'m': model.t_params[0], 'c': model.t_params[1]})"
   ]
  },
  {
   "cell_type": "markdown",
   "metadata": {},
   "source": [
    "# SIS ACR"
   ]
  },
  {
   "cell_type": "code",
   "execution_count": null,
   "metadata": {},
   "outputs": [],
   "source": [
    "X = np.linspace(0, 10)\n",
    "plt.plot(X, np.array([[ss.halfnorm(scale=i).pdf(x) for x in X] for i in [2, 5, 10]]).T);"
   ]
  },
  {
   "cell_type": "code",
   "execution_count": null,
   "metadata": {},
   "outputs": [],
   "source": [
    "m = SIS_ACR_pop_gen\n",
    "params = np.array([1, 1, 2, 1.5, 1, 1, 0.1])\n",
    "sizes = np.ones((100, 3), dtype=np.int) * 2\n",
    "sizes[:, 0] = sizes[:, 1:].sum(1)\n",
    "\n",
    "model = m(SIS_ACR_orthogonal_reparam, sizes=sizes, params=params, data=None)"
   ]
  },
  {
   "cell_type": "code",
   "execution_count": null,
   "metadata": {},
   "outputs": [],
   "source": [
    "ndraws = 30\n",
    "nburn = 10\n",
    "\n",
    "with pm.Model() as pm_model:\n",
    "    beta_c = pm.HalfNormal('beta_c', sd=2)\n",
    "    beta_l = pm.HalfNormal('beta_l', sd=2)\n",
    "    beta_h = pm.HalfNormal('beta_h', sd=2)\n",
    "    rho_c = pm.HalfNormal('rho_c', sd=2)\n",
    "    rho_h = pm.HalfNormal('rho_h', sd=2)\n",
    "    g = pm.HalfNormal('g', sd=2)\n",
    "    eps = pm.HalfNormal('eps', sd=2)\n",
    "\n",
    "    theta = tt.as_tensor_variable([beta_c, beta_l, beta_h, rho_c, rho_h, g, eps])\n",
    "\n",
    "    loglike = PymcWrapper(deepcopy(model))\n",
    "#     pm.DensityDist('likelihood', lambda v: loglike(v), observed={'v': theta})\n",
    "    pm.Potential('likelihood', loglike(theta))\n",
    "\n",
    "#     trace = pm.sample(ndraws, tune=nburn, discard_tuned_samples=True, chains=1)\n",
    "    trace = pm.sample(step=SMC(), draws=1000, chains=4)\n",
    "\n",
    "# plot the traces\n",
    "_ = pm.traceplot(trace, lines={k: v for k, v in zip(model.param_l, model.t_params)})\n",
    "\n",
    "# put the chains in an array (for later!)\n",
    "df_trace = pm.trace_to_dataframe(trace)"
   ]
  },
  {
   "cell_type": "code",
   "execution_count": null,
   "metadata": {},
   "outputs": [],
   "source": [
    "# half normal\n",
    "print(loglike.call_counter, loglike.logpgrad.call_counter)\n",
    "print(loglike.model.call_counter, loglike.model.sub_pops[0].call_counter)"
   ]
  },
  {
   "cell_type": "code",
   "execution_count": null,
   "metadata": {},
   "outputs": [],
   "source": [
    "pm.summary(trace)"
   ]
  },
  {
   "cell_type": "code",
   "execution_count": null,
   "metadata": {},
   "outputs": [],
   "source": [
    "sns.heatmap(pd.DataFrame(pm.trace_cov(trace, model=pm_model),\n",
    "                         columns=model.param_l, index=model.param_l),\n",
    "            annot=True, fmt='1.2g')"
   ]
  },
  {
   "cell_type": "code",
   "execution_count": null,
   "metadata": {},
   "outputs": [],
   "source": [
    "def pairplot_truth(df_trace):\n",
    "    ax = sns.pairplot(df_trace, diag_kind='kde')\n",
    "\n",
    "    if hasattr(model, 't_params'):\n",
    "        c = 'r'\n",
    "        D = len(model.t_params)\n",
    "        for i in range(D):\n",
    "            ax.axes[i][i].axvline(model.t_params[i], c=c)\n",
    "            for j in range(i+1, D):\n",
    "                ax.axes[j][i].plot(model.t_params[i], model.t_params[j], 'ro')\n",
    "    return ax\n",
    "\n",
    "ax = pairplot_truth(df_trace)"
   ]
  },
  {
   "cell_type": "markdown",
   "metadata": {},
   "source": [
    "# scratch"
   ]
  },
  {
   "cell_type": "code",
   "execution_count": null,
   "metadata": {},
   "outputs": [],
   "source": [
    "from snepits.utils.pymc3 import trace_pairplot"
   ]
  },
  {
   "cell_type": "code",
   "execution_count": null,
   "metadata": {},
   "outputs": [],
   "source": [
    "sns.set_context(\"paper\", font_scale=1.5)\n",
    "\n",
    "trace_pairplot([df_trace], diag_kind='kde', s=1, t_params=model.t_params)"
   ]
  }
 ],
 "metadata": {
  "language_info": {
   "name": "python",
   "pygments_lexer": "ipython3"
  }
 },
 "nbformat": 4,
 "nbformat_minor": 2
}
